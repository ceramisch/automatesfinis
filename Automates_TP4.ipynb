{
 "cells": [
  {
   "cell_type": "markdown",
   "metadata": {
    "id": "tm7J027xlF-e"
   },
   "source": [
    "# Automates finis - TP 4\n",
    "\n",
    "### Objectif du TP\n",
    "\n",
    "L'objectif de ce dernier TP est d'écrire un programma capable de reconnaître si un mot quelconque peut être reconnu par une expression régulière quelconque. Pour cela, nous allons utiliser ce que nous avons développé jusque là :\n",
    "  * Opérations régulières (TP3) pour implémenter l'algorithme de Moore,\n",
    "  * Déterminisation (TP2) pour déterminiser l'automate résultant, puis\n",
    "  * Reconnaissance (TP1) pour savoir si le mot est reconnu par l'automate déterminisé.\n",
    "Vous allez donc faire un programme qui parcours une expression régulière donnée, crée un automate fini à partir de cette expression, et ensuite déterminise et simule cet automate pour donner la réponse `YES` si le mot est reconnu et `NO` sinon."
   ]
  },
  {
   "cell_type": "markdown",
   "metadata": {},
   "source": [
    "### Rappel : expressions régulières\n",
    "\n",
    "Une expression régulière est composée d'éléments atomiques et d'opérateurs, ainsi que de parenthèses pour changer la precédence de ces opérateurs. \n",
    "\n",
    "Les éléments atomiques sont :\n",
    "  * L'ensemble vide qui dénote le langage vide (dans ce TP, nous ne modéliserons pas l'ensemble vide)\n",
    "  * Le symbole spécial \"mot vide\" $\\varepsilon$, ici représenté par le caractère spécial `%`\n",
    "  * Des symboles simples de l'alphabet, ici représentés par des lettres et des chiffres p.ex. `a`, `b`, `1`, `2`\n",
    "  \n",
    "Les opérateurs sont :\n",
    "  * L'union, notée avec un `+`, p.ex. `a+b` dénote le langage contenant les symboles `a` ou `b`\n",
    "  * La concaténation, notée simplement par la juxtaposition des éléments p.ex. `ab` dénote `a` concaténé à `b`  \n",
    "  * L'étoile de Kleene `*` représente l'auto-concaténation un nombre arbitraire de fois p.ex. `a*`\n",
    "  \n",
    "**Priorité des opérateurs**: L'étoile de Kleene est plus prioritaire que la concaténation qui est à son tour plus prioritaire que l'union. Ainsi, l'expression `c+ab*` doit être interprétée comme `c+(a(b*))`, c'est-à-dire on applique d'abord `*` au symbole qui la précède `b`, puis on concatène le résultat avec le `a` qui précède, et en dernier on effectue l'union avec `c`. Si on veut changer cette priorité pour effectuer d'abord l'union, ensuite la concaténation, et appliquer en dernier l'étoile de Kleene sur le tout, on doit écrire avec des parenthèses `((c+a)b)*`. Notez que c'est l'expression la plus imbriquée dans les parenthèses qui est effectuée d'abord.\n",
    "  \n",
    "### Expressions régulières en notation postfixée\n",
    "  \n",
    "**Notation infixée et parenthèses**: Les opérateurs de concaténation et d'union sont infixés, c'est à dire ils apparaîssent _au milieu_ des deux opérandes. Ainsi, `a+b` contient l'opérande gauche `a`, l'opérateur `+`, et l'opérande droite `b`. Ce format n'est pas très pratique à analyser car il requiert des parenthèses pour forcer un certain ordre d'application des opérateurs. L'étoile de Kleene, au contraire, est postfixée, c'est-à-dire, elle apparaît _après_ l'opérande et s'applique sur le symbole ou expression parenthésée qui est à sa gauche. \n",
    "\n",
    "**Notation postfixée**: Pour travailler avec les expressions régulières dans ce TP, la présence de parenthèses et la notation infixée n'est pas pratique car elle requiert une analyse syntaxique complexe de l'expression régulière (vous allez apprendre à faire cela en cours de Compilation en L3). Pour vous faciliter la tâche, nous travaillerons avec la notation postfixée. Cette notation met l'opérateur toujours en dernier, après les deux opérandes (ou une, dans le cas de l'étoile de Kleene). Par exemple `a+b` en notation infixée s'écrit `ab+`. On sait que `+` est un opérateur binaire, donc on sait qu'il s'applique aux deux dernières opérandes à sa gauche. Dans cette notation, la concaténation est explicitement notée via le symbole point final `.`. Par exemple, `abc..` se lit `b` concaténé à `c`, et le résultat de cette concaténation `bc` concaténé à `a`, c'est-à-dire `abc`.\n",
    "\n",
    "**Absence de parenthèses**: Le grand avantage de la notation postfixée par rapport à la notation infixée c'est qu'elle ne nécessite pas de parenthèses. Par exemple, `c+(a(b*))` en notation postfixée donne `cab*.+`, c'est-à-dire, on applique d'abord `*` à `b`, puis on concatène `a` avec ce `b*`, pour finalement faire l'union de `c` avec `ab*`. Si on voulait changer l'ordre de priorité et forcer une lecture comme dans `((c+a)b)*`, on peut tout simplement écrire `ca+b.*`, c'est-à-dire dès qu'on trouve `+`, on fait l'union `c+a`. Cette dernière est ensuite concaténée à `b` pour former `(c+a)b` et finalement l'étoile de Kleene est appliqueé à ce résultat.\n",
    "\n",
    "**RegExpReader**: La conversion d'une expression régulière en notation infixée (comme vous les écrivez habituellement) vers une notation postfixée est fournie dans la bibliothèque `automaton.py`. La fonction à appeler est `automaton.RegExpReader(\"a+b\").to_postfix()` où `a+b` représente l'expression à convertir. Prenez maintenant le temps de tester quelques expressions régulières et de voir comment on écrit la version postfixée (que vous allez manipuler) par rapport à la notation infixée (à laquelle vous êtes habitué.e.s)"
   ]
  },
  {
   "cell_type": "code",
   "execution_count": 1,
   "metadata": {},
   "outputs": [
    {
     "name": "stdout",
     "output_type": "stream",
     "text": [
      "Notation infixée   : \"a+b\"\n",
      "Notation postfixée : \"ab+\"\n",
      "\n",
      "Notation infixée   : \"a+b*\"\n",
      "Notation postfixée : \"ab*+\"\n",
      "\n",
      "Notation infixée   : \"a*+b*\"\n",
      "Notation postfixée : \"a*b*+\"\n",
      "\n",
      "Notation infixée   : \"ab*+a*b\"\n",
      "Notation postfixée : \"ab*.a*b.+\"\n",
      "\n",
      "Notation infixée   : \"(a+b)*(a+b)*\"\n",
      "Notation postfixée : \"ab+*ab+*.\"\n",
      "\n",
      "Notation infixée   : \"a+b*a+b*\"\n",
      "Notation postfixée : \"ab*a.b*++\"\n",
      "\n",
      "Notation infixée   : \"(a+%)b*\"\n",
      "Notation postfixée : \"a%+b*.\"\n",
      "\n"
     ]
    }
   ],
   "source": [
    "from automaton import Automaton, RegExpReader\n",
    "# ajouter vos regexp ici pour tester la conversion...\n",
    "regexp_list = [\"a+b\", \"a+b*\", \"a*+b*\", \"ab*+a*b\", \"(a+b)*(a+b)*\", \"a+b*a+b*\", \"(a+%)b*\"] \n",
    "for infix in regexp_list :\n",
    "    postfix = RegExpReader(infix).to_postfix()\n",
    "    print (\"Notation infixée   : \\\"{}\\\"\".format(infix))    \n",
    "    print (\"Notation postfixée : \\\"{}\\\"\\n\".format(postfix))\n"
   ]
  },
  {
   "cell_type": "markdown",
   "metadata": {},
   "source": [
    "### Lecture et traitement d'une expression régulière postfixée\n",
    "\n",
    "**La pile**: Une expression régulière postfixée peut être facilement traitée à l'aide d'une structure de données de type [_pile_](https://fr.wikipedia.org/wiki/Pile_(informatique)). Une pile est une liste à laquelle on ne peut qu'ajouter ou enlever des éléments au bout, jamais au milieu. Les listes python peuvent être utilisées directement comme des piles à l'aide des fonctions `append(a)` et `pop()`. La fonction `append(a)` ajoute un élément à la fin de la liste, que nous appellerons le _sommet_ de la pile (car une pile est généralement dessinée à la verticale, ave le sommet tout en haut. Comme dans une vraie pile d'objets, on ne peut pas ajouter ou supprimer des éléments au milieu, mais uniquement au sommet). L'opération `pop()` supprime et renvoie le dernier élément de la pile, c'est-à-dire le _sommet_. Voici un exemple de liste python utilisée comme pile:"
   ]
  },
  {
   "cell_type": "code",
   "execution_count": 2,
   "metadata": {},
   "outputs": [
    {
     "name": "stdout",
     "output_type": "stream",
     "text": [
      "J'ajoute trois éléments 'a', 'b', 'c' à la pile dans cet ordre\n",
      "Maintenant, 'c' est au sommet de la pile, 'b' est juste en dessous, et 'a' est à la base\n",
      "['a', 'b', 'c']\n",
      "Le sommet de la pile est la position -1, c'est-à-dire la première en partant de la fin\n",
      "c\n",
      "Si je 'pop' la pile...\n",
      "Le sommet renvoyé est le dernier élément ajouté.\n",
      "c\n",
      "et il ne reste que deux éléments dans la pile\n",
      "['a', 'b']\n",
      "Je re-'pop' et maintenant j'obtient un 'b' comme sommet\n",
      "b\n",
      "Le dernier élément que je peux 'pop' est 'a'\n",
      "a\n",
      "Désormais la pile est vide et si j'appellais 'pop' cela renverrait une erreur (essayez !)\n",
      "[]\n",
      "Remarquez que les élements sont 'pop'és dans l'ordre inverse où ils ont été 'append'és\n"
     ]
    }
   ],
   "source": [
    "pile = []\n",
    "print(\"J'ajoute trois éléments 'a', 'b', 'c' à la pile dans cet ordre\")\n",
    "pile.append(\"a\")\n",
    "pile.append(\"b\")\n",
    "pile.append(\"c\")\n",
    "print(\"Maintenant, 'c' est au sommet de la pile, 'b' est juste en dessous, et 'a' est à la base\")\n",
    "print(pile)\n",
    "print(\"Le sommet de la pile est la position -1, c'est-à-dire la première en partant de la fin\")\n",
    "print(pile[-1])\n",
    "print(\"Si je 'pop' la pile...\")\n",
    "sommet = pile.pop()\n",
    "print(\"Le sommet renvoyé est le dernier élément ajouté.\")\n",
    "print(sommet) \n",
    "print(\"et il ne reste que deux éléments dans la pile\")\n",
    "print(pile) \n",
    "print(\"Je re-'pop' et maintenant j'obtient un 'b' comme sommet\")\n",
    "sommet = pile.pop()\n",
    "print(sommet)\n",
    "print(\"Le dernier élément que je peux 'pop' est 'a'\")\n",
    "sommet = pile.pop()\n",
    "print(sommet)\n",
    "print(\"Désormais la pile est vide et si j'appellais 'pop' cela renverrait une erreur (essayez !)\")\n",
    "print(pile)\n",
    "#pile.pop()\n",
    "print(\"Remarquez que les élements sont 'pop'és dans l'ordre inverse où ils ont été 'append'és\")"
   ]
  },
  {
   "cell_type": "markdown",
   "metadata": {},
   "source": [
    "**Lecture d'une expression avec la pile**: quel est le rapport de la pile avec l'expression  régulière en notation postfixée ? À l'aide d'une pile, traiter et évaluer l'expression régulière devient simple. Vous lirez l'expression régulière postfixée de gauche à droite :\n",
    "  * Si vous tombez sur un symbole simple (chiffre, lettre, ou mot vide `%`), vous créerez un automate élémentaire qui reconnaît ce symbole et vous l'empilerez (oui oui, on va faire une pile d'automates... c'est beau non ?)\n",
    "  * Si vous tombez sur un opérateur parmi `+.*`, vous l'appliquerez aux deux éléments (ou un élément pour `*`) qui se trouvent au sommet de la pile, puis vous empilerez (`append`) le résultat. \n",
    "Si vous suivez ces deux règles simples, à la fin de la lecture de l'expression postfixée la pile contiendra un seul élément, qui est l'automate correspondant à l'expression régulière postfixée lue. Autrement dit, vous implémenterez de cette façon l'algorithme de Thompson, qui permet de convertir une expression régulière en un automate fini non déterministe (plein de transitions-$\\varepsilon$). \n",
    "\n",
    "**Application des opérateurs** Pour l'algorithme ci-dessus, \"appliquer\" un opérateur signifie créer un automate fini qui combine deux autres automates sur la pile, comme dans l'algorithme de Thompson. Pour cela, il suffira d'utiliser les opérations `union`, `concat` et `kleene` implémentées au TP3. Voyons un exemple concret de cet algorithme en action.\n",
    "\n",
    "Supposons l'expression régulière `(a+%)b*` ci-dessus, qui s'écrit en notation postfixée `a%+b*.`. Nous initialiserons aussi la pile à vide:"
   ]
  },
  {
   "cell_type": "code",
   "execution_count": 3,
   "metadata": {},
   "outputs": [
    {
     "name": "stdout",
     "output_type": "stream",
     "text": [
      "a%+b*.\n"
     ]
    }
   ],
   "source": [
    "pile = []\n",
    "postfix = RegExpReader(\"(a+%)b*\").to_postfix()\n",
    "print(postfix)"
   ]
  },
  {
   "cell_type": "markdown",
   "metadata": {},
   "source": [
    "Le premier symbole de cette expression est un `a`. Ainsi, nous devons créer un automate qui reconnaît `a` et l'empiler :"
   ]
  },
  {
   "cell_type": "code",
   "execution_count": 4,
   "metadata": {},
   "outputs": [
    {
     "data": {
      "image/svg+xml": [
       "<?xml version=\"1.0\" encoding=\"UTF-8\" standalone=\"no\"?>\n",
       "<!DOCTYPE svg PUBLIC \"-//W3C//DTD SVG 1.1//EN\"\n",
       " \"http://www.w3.org/Graphics/SVG/1.1/DTD/svg11.dtd\">\n",
       "<!-- Generated by graphviz version 2.43.0 (0)\n",
       " -->\n",
       "<!-- Title: finite_state_machine Pages: 1 -->\n",
       "<svg width=\"171pt\" height=\"75pt\"\n",
       " viewBox=\"0.00 0.00 171.00 75.00\" xmlns=\"http://www.w3.org/2000/svg\" xmlns:xlink=\"http://www.w3.org/1999/xlink\">\n",
       "<g id=\"graph0\" class=\"graph\" transform=\"scale(1 1) rotate(0) translate(4 71)\">\n",
       "<title>finite_state_machine</title>\n",
       "<polygon fill=\"white\" stroke=\"transparent\" points=\"-4,4 -4,-71 167,-71 167,4 -4,4\"/>\n",
       "<text text-anchor=\"middle\" x=\"81.5\" y=\"-7.8\" font-family=\"Times,serif\" font-size=\"14.00\">a</text>\n",
       "<!-- 1 -->\n",
       "<g id=\"node1\" class=\"node\">\n",
       "<title>1</title>\n",
       "<ellipse fill=\"none\" stroke=\"black\" cx=\"141\" cy=\"-45\" rx=\"18\" ry=\"18\"/>\n",
       "<ellipse fill=\"none\" stroke=\"black\" cx=\"141\" cy=\"-45\" rx=\"22\" ry=\"22\"/>\n",
       "<text text-anchor=\"middle\" x=\"141\" y=\"-41.3\" font-family=\"Times,serif\" font-size=\"14.00\">1</text>\n",
       "</g>\n",
       "<!-- __I__ -->\n",
       "<!-- 0 -->\n",
       "<g id=\"node3\" class=\"node\">\n",
       "<title>0</title>\n",
       "<ellipse fill=\"none\" stroke=\"black\" cx=\"56\" cy=\"-45\" rx=\"18\" ry=\"18\"/>\n",
       "<text text-anchor=\"middle\" x=\"56\" y=\"-41.3\" font-family=\"Times,serif\" font-size=\"14.00\">0</text>\n",
       "</g>\n",
       "<!-- __I__&#45;&gt;0 -->\n",
       "<g id=\"edge1\" class=\"edge\">\n",
       "<title>__I__&#45;&gt;0</title>\n",
       "<path fill=\"none\" stroke=\"black\" d=\"M1.15,-45C2.67,-45 15.1,-45 27.63,-45\"/>\n",
       "<polygon fill=\"black\" stroke=\"black\" points=\"27.94,-48.5 37.94,-45 27.94,-41.5 27.94,-48.5\"/>\n",
       "</g>\n",
       "<!-- 0&#45;&gt;1 -->\n",
       "<g id=\"edge2\" class=\"edge\">\n",
       "<title>0&#45;&gt;1</title>\n",
       "<path fill=\"none\" stroke=\"black\" d=\"M74.2,-45C84.16,-45 97,-45 108.7,-45\"/>\n",
       "<polygon fill=\"black\" stroke=\"black\" points=\"109,-48.5 119,-45 109,-41.5 109,-48.5\"/>\n",
       "<text text-anchor=\"middle\" x=\"96.5\" y=\"-48.8\" font-family=\"Times,serif\" font-size=\"14.00\">a</text>\n",
       "</g>\n",
       "</g>\n",
       "</svg>\n"
      ],
      "text/plain": [
       "<automaton.Automaton at 0x7f77b06197c0>"
      ]
     },
     "execution_count": 4,
     "metadata": {},
     "output_type": "execute_result"
    }
   ],
   "source": [
    "a = Automaton(\"a\")\n",
    "a.add_transition(\"0\",\"a\",\"1\")\n",
    "a.make_accept(\"1\")\n",
    "pile.append(a)\n",
    "pile[-1] # La pile contient l'automate qui reconnaît 'a'"
   ]
  },
  {
   "cell_type": "markdown",
   "metadata": {},
   "source": [
    "Le deuxième symbole est maintenant un `%` qui représente $\\varepsilon$. De manière analogue, nous construisons un automate pour reconnaître $\\varepsilon$ puis nous l'empilons (il vaut mieux faire une fonction qui construit un automate élémentaire pour un symbole quelconque, lettre, chiffre, ou `%`):"
   ]
  },
  {
   "cell_type": "code",
   "execution_count": 5,
   "metadata": {},
   "outputs": [
    {
     "data": {
      "image/svg+xml": [
       "<?xml version=\"1.0\" encoding=\"UTF-8\" standalone=\"no\"?>\n",
       "<!DOCTYPE svg PUBLIC \"-//W3C//DTD SVG 1.1//EN\"\n",
       " \"http://www.w3.org/Graphics/SVG/1.1/DTD/svg11.dtd\">\n",
       "<!-- Generated by graphviz version 2.43.0 (0)\n",
       " -->\n",
       "<!-- Title: finite_state_machine Pages: 1 -->\n",
       "<svg width=\"170pt\" height=\"75pt\"\n",
       " viewBox=\"0.00 0.00 170.00 75.00\" xmlns=\"http://www.w3.org/2000/svg\" xmlns:xlink=\"http://www.w3.org/1999/xlink\">\n",
       "<g id=\"graph0\" class=\"graph\" transform=\"scale(1 1) rotate(0) translate(4 71)\">\n",
       "<title>finite_state_machine</title>\n",
       "<polygon fill=\"white\" stroke=\"transparent\" points=\"-4,4 -4,-71 166,-71 166,4 -4,4\"/>\n",
       "<text text-anchor=\"middle\" x=\"81\" y=\"-7.8\" font-family=\"Times,serif\" font-size=\"14.00\">%</text>\n",
       "<!-- 1 -->\n",
       "<g id=\"node1\" class=\"node\">\n",
       "<title>1</title>\n",
       "<ellipse fill=\"none\" stroke=\"black\" cx=\"140\" cy=\"-45\" rx=\"18\" ry=\"18\"/>\n",
       "<ellipse fill=\"none\" stroke=\"black\" cx=\"140\" cy=\"-45\" rx=\"22\" ry=\"22\"/>\n",
       "<text text-anchor=\"middle\" x=\"140\" y=\"-41.3\" font-family=\"Times,serif\" font-size=\"14.00\">1</text>\n",
       "</g>\n",
       "<!-- __I__ -->\n",
       "<!-- 0 -->\n",
       "<g id=\"node3\" class=\"node\">\n",
       "<title>0</title>\n",
       "<ellipse fill=\"none\" stroke=\"black\" cx=\"56\" cy=\"-45\" rx=\"18\" ry=\"18\"/>\n",
       "<text text-anchor=\"middle\" x=\"56\" y=\"-41.3\" font-family=\"Times,serif\" font-size=\"14.00\">0</text>\n",
       "</g>\n",
       "<!-- __I__&#45;&gt;0 -->\n",
       "<g id=\"edge1\" class=\"edge\">\n",
       "<title>__I__&#45;&gt;0</title>\n",
       "<path fill=\"none\" stroke=\"black\" d=\"M1.15,-45C2.67,-45 15.1,-45 27.63,-45\"/>\n",
       "<polygon fill=\"black\" stroke=\"black\" points=\"27.94,-48.5 37.94,-45 27.94,-41.5 27.94,-48.5\"/>\n",
       "</g>\n",
       "<!-- 0&#45;&gt;1 -->\n",
       "<g id=\"edge2\" class=\"edge\">\n",
       "<title>0&#45;&gt;1</title>\n",
       "<path fill=\"none\" stroke=\"black\" d=\"M74.39,-45C84.11,-45 96.51,-45 107.85,-45\"/>\n",
       "<polygon fill=\"black\" stroke=\"black\" points=\"107.85,-48.5 117.85,-45 107.85,-41.5 107.85,-48.5\"/>\n",
       "<text text-anchor=\"middle\" x=\"96\" y=\"-48.8\" font-family=\"Times,serif\" font-size=\"14.00\">ε</text>\n",
       "</g>\n",
       "</g>\n",
       "</svg>\n"
      ],
      "text/plain": [
       "<automaton.Automaton at 0x7f77b0619d60>"
      ]
     },
     "execution_count": 5,
     "metadata": {},
     "output_type": "execute_result"
    }
   ],
   "source": [
    "e = Automaton(\"%\")\n",
    "e.add_transition(\"0\",\"%\",\"1\")\n",
    "e.make_accept(\"1\")\n",
    "pile.append(e)\n",
    "pile[-1]"
   ]
  },
  {
   "cell_type": "markdown",
   "metadata": {},
   "source": [
    "La pile contient maintenant deux éléments : l'automate qui reconnaît `a`, et au dessus, au sommet, l'automate qui reconnaît $\\varepsilon$. Le troisième symbole dans l'expression postfixée est `+`, cela veut dire qu'il faut dépiler les deux derniers éléments, appliquer l'union (avec le sommet à droite et l'élément juste en dessous du sommet à gauche) puis empiler le résultat :"
   ]
  },
  {
   "cell_type": "code",
   "execution_count": 6,
   "metadata": {},
   "outputs": [
    {
     "data": {
      "image/svg+xml": [
       "<?xml version=\"1.0\" encoding=\"UTF-8\" standalone=\"no\"?>\n",
       "<!DOCTYPE svg PUBLIC \"-//W3C//DTD SVG 1.1//EN\"\n",
       " \"http://www.w3.org/Graphics/SVG/1.1/DTD/svg11.dtd\">\n",
       "<!-- Generated by graphviz version 2.43.0 (0)\n",
       " -->\n",
       "<!-- Title: L Pages: 1 -->\n",
       "<svg width=\"101pt\" height=\"68pt\"\n",
       " viewBox=\"0.00 0.00 101.00 68.00\" xmlns=\"http://www.w3.org/2000/svg\" xmlns:xlink=\"http://www.w3.org/1999/xlink\">\n",
       "<g id=\"graph0\" class=\"graph\" transform=\"scale(1 1) rotate(0) translate(4 64)\">\n",
       "<title>L</title>\n",
       "<polygon fill=\"white\" stroke=\"transparent\" points=\"-4,4 -4,-64 97,-64 97,4 -4,4\"/>\n",
       "<text text-anchor=\"middle\" x=\"46.5\" y=\"-7.8\" font-family=\"Times,serif\" font-size=\"14.00\">union(a,%)</text>\n",
       "<!-- a -->\n",
       "<g id=\"node1\" class=\"node\">\n",
       "<title>a</title>\n",
       "<polygon fill=\"none\" stroke=\"black\" points=\"15.5,-23.5 15.5,-59.5 77.5,-59.5 77.5,-23.5 15.5,-23.5\"/>\n",
       "<text text-anchor=\"middle\" x=\"46.5\" y=\"-37.8\" font-family=\"Times,serif\" font-size=\"14.00\">empty</text>\n",
       "</g>\n",
       "</g>\n",
       "</svg>\n"
      ],
      "text/plain": [
       "<automaton.Automaton at 0x7f77b0635250>"
      ]
     },
     "execution_count": 6,
     "metadata": {},
     "output_type": "execute_result"
    }
   ],
   "source": [
    "droite = pile.pop()\n",
    "gauche = pile.pop()\n",
    "#resultat = union(gauche,droite) # implémenté en TP3\n",
    "resultat = Automaton(\"bidon\") # pour tester, on crée un automate vide à la place (ne faites pas ça)\n",
    "nom = \"union({},{})\".format(gauche.name,droite.name)\n",
    "resultat.name = nom\n",
    "pile.append(resultat)\n",
    "pile[-1]"
   ]
  },
  {
   "cell_type": "markdown",
   "metadata": {},
   "source": [
    "Vous avez implémenté une fonction qui fait l'union entre deux automates quelconques, que vous appelerez ici (commentée ci-dessus). Nous ne pouvons pas l'appliquer car elle n'est pas fournie dans `automaton.py`. Pour cet exemple, nous créons un automate bidon vide, mais dont le nom indique qu'il est l'union entre deux automates. Il faut nous croire : ça marchera avec votre fonction `union` (à condition qu'elle n'ait pas de bug -- sinon c'est l'occasion de les corriger).\n",
    "\n",
    "Le quatriéme symbole de l'expression `a%+b*.` est un `b`. Il faut donc empiler un automate qui reconnaît `b` :"
   ]
  },
  {
   "cell_type": "code",
   "execution_count": 7,
   "metadata": {},
   "outputs": [
    {
     "data": {
      "image/svg+xml": [
       "<?xml version=\"1.0\" encoding=\"UTF-8\" standalone=\"no\"?>\n",
       "<!DOCTYPE svg PUBLIC \"-//W3C//DTD SVG 1.1//EN\"\n",
       " \"http://www.w3.org/Graphics/SVG/1.1/DTD/svg11.dtd\">\n",
       "<!-- Generated by graphviz version 2.43.0 (0)\n",
       " -->\n",
       "<!-- Title: finite_state_machine Pages: 1 -->\n",
       "<svg width=\"172pt\" height=\"75pt\"\n",
       " viewBox=\"0.00 0.00 172.00 75.00\" xmlns=\"http://www.w3.org/2000/svg\" xmlns:xlink=\"http://www.w3.org/1999/xlink\">\n",
       "<g id=\"graph0\" class=\"graph\" transform=\"scale(1 1) rotate(0) translate(4 71)\">\n",
       "<title>finite_state_machine</title>\n",
       "<polygon fill=\"white\" stroke=\"transparent\" points=\"-4,4 -4,-71 168,-71 168,4 -4,4\"/>\n",
       "<text text-anchor=\"middle\" x=\"82\" y=\"-7.8\" font-family=\"Times,serif\" font-size=\"14.00\">b</text>\n",
       "<!-- 1 -->\n",
       "<g id=\"node1\" class=\"node\">\n",
       "<title>1</title>\n",
       "<ellipse fill=\"none\" stroke=\"black\" cx=\"142\" cy=\"-45\" rx=\"18\" ry=\"18\"/>\n",
       "<ellipse fill=\"none\" stroke=\"black\" cx=\"142\" cy=\"-45\" rx=\"22\" ry=\"22\"/>\n",
       "<text text-anchor=\"middle\" x=\"142\" y=\"-41.3\" font-family=\"Times,serif\" font-size=\"14.00\">1</text>\n",
       "</g>\n",
       "<!-- __I__ -->\n",
       "<!-- 0 -->\n",
       "<g id=\"node3\" class=\"node\">\n",
       "<title>0</title>\n",
       "<ellipse fill=\"none\" stroke=\"black\" cx=\"56\" cy=\"-45\" rx=\"18\" ry=\"18\"/>\n",
       "<text text-anchor=\"middle\" x=\"56\" y=\"-41.3\" font-family=\"Times,serif\" font-size=\"14.00\">0</text>\n",
       "</g>\n",
       "<!-- __I__&#45;&gt;0 -->\n",
       "<g id=\"edge1\" class=\"edge\">\n",
       "<title>__I__&#45;&gt;0</title>\n",
       "<path fill=\"none\" stroke=\"black\" d=\"M1.15,-45C2.67,-45 15.1,-45 27.63,-45\"/>\n",
       "<polygon fill=\"black\" stroke=\"black\" points=\"27.94,-48.5 37.94,-45 27.94,-41.5 27.94,-48.5\"/>\n",
       "</g>\n",
       "<!-- 0&#45;&gt;1 -->\n",
       "<g id=\"edge2\" class=\"edge\">\n",
       "<title>0&#45;&gt;1</title>\n",
       "<path fill=\"none\" stroke=\"black\" d=\"M74.4,-45C84.59,-45 97.75,-45 109.68,-45\"/>\n",
       "<polygon fill=\"black\" stroke=\"black\" points=\"109.74,-48.5 119.74,-45 109.74,-41.5 109.74,-48.5\"/>\n",
       "<text text-anchor=\"middle\" x=\"97\" y=\"-48.8\" font-family=\"Times,serif\" font-size=\"14.00\">b</text>\n",
       "</g>\n",
       "</g>\n",
       "</svg>\n"
      ],
      "text/plain": [
       "<automaton.Automaton at 0x7f77b06358b0>"
      ]
     },
     "execution_count": 7,
     "metadata": {},
     "output_type": "execute_result"
    }
   ],
   "source": [
    "b = Automaton(\"b\")\n",
    "b.add_transition(\"0\",\"b\",\"1\")\n",
    "b.make_accept(\"1\")\n",
    "pile.append(b)\n",
    "pile[-1] "
   ]
  },
  {
   "cell_type": "markdown",
   "metadata": {},
   "source": [
    "La pile contient désormais l'automate qui reconnaît `a+%` à la base, et `b` au sommet:"
   ]
  },
  {
   "cell_type": "code",
   "execution_count": 8,
   "metadata": {},
   "outputs": [
    {
     "name": "stdout",
     "output_type": "stream",
     "text": [
      "Position 0\n",
      "union(a,%) = <Q={}, S={}, D, q0=None, F={}>\n",
      "D =\n",
      "| |\n",
      "---\n",
      "\n",
      "Position 1\n",
      "b = <Q={0,1}, S={b}, D, q0=0, F={1}>\n",
      "D =\n",
      "| |b|\n",
      "-----\n",
      "|0|1|\n",
      "-----\n",
      "|1| |\n",
      "-----\n",
      "\n"
     ]
    }
   ],
   "source": [
    "for (i,a) in enumerate(pile):\n",
    "    print(\"Position {}\".format(i))\n",
    "    print(str(a))\n",
    "    print()"
   ]
  },
  {
   "cell_type": "markdown",
   "metadata": {},
   "source": [
    "Le cinquième symbole est l'étoile de Kleene. Encore une fois, nous ne pouvons pas l'appliquer ici directement mais nous créerons un automate bidon pour représenter l'application de la fonction que vous avez implémenté en TP3:"
   ]
  },
  {
   "cell_type": "code",
   "execution_count": 9,
   "metadata": {},
   "outputs": [
    {
     "data": {
      "image/svg+xml": [
       "<?xml version=\"1.0\" encoding=\"UTF-8\" standalone=\"no\"?>\n",
       "<!DOCTYPE svg PUBLIC \"-//W3C//DTD SVG 1.1//EN\"\n",
       " \"http://www.w3.org/Graphics/SVG/1.1/DTD/svg11.dtd\">\n",
       "<!-- Generated by graphviz version 2.43.0 (0)\n",
       " -->\n",
       "<!-- Title: L Pages: 1 -->\n",
       "<svg width=\"91pt\" height=\"68pt\"\n",
       " viewBox=\"0.00 0.00 91.00 68.00\" xmlns=\"http://www.w3.org/2000/svg\" xmlns:xlink=\"http://www.w3.org/1999/xlink\">\n",
       "<g id=\"graph0\" class=\"graph\" transform=\"scale(1 1) rotate(0) translate(4 64)\">\n",
       "<title>L</title>\n",
       "<polygon fill=\"white\" stroke=\"transparent\" points=\"-4,4 -4,-64 87,-64 87,4 -4,4\"/>\n",
       "<text text-anchor=\"middle\" x=\"41.5\" y=\"-7.8\" font-family=\"Times,serif\" font-size=\"14.00\">kleene(b)</text>\n",
       "<!-- a -->\n",
       "<g id=\"node1\" class=\"node\">\n",
       "<title>a</title>\n",
       "<polygon fill=\"none\" stroke=\"black\" points=\"10.5,-23.5 10.5,-59.5 72.5,-59.5 72.5,-23.5 10.5,-23.5\"/>\n",
       "<text text-anchor=\"middle\" x=\"41.5\" y=\"-37.8\" font-family=\"Times,serif\" font-size=\"14.00\">empty</text>\n",
       "</g>\n",
       "</g>\n",
       "</svg>\n"
      ],
      "text/plain": [
       "<automaton.Automaton at 0x7f77b0635b20>"
      ]
     },
     "execution_count": 9,
     "metadata": {},
     "output_type": "execute_result"
    }
   ],
   "source": [
    "gauche = pile.pop()\n",
    "#resultat = kleene(operande) # vous avez implementé cette fonction, pas nous :-/\n",
    "resultat = Automaton(\"bidon\") # pour tester, on crée un automate vide à la place (ne faites pas ça)\n",
    "nom = \"kleene({})\".format(gauche.name)\n",
    "resultat.name = nom\n",
    "pile.append(resultat)\n",
    "pile[-1]"
   ]
  },
  {
   "cell_type": "markdown",
   "metadata": {},
   "source": [
    "La pile contient désormais les automates qui reconnaîssent `a+%` en position 0 et `b*` en position 1 (sommet). Le sixième et dernier opérateur est un point `.` qui représente la concaténation de ces deux derniers automates, avec le sommet à droite et l'élément juste au dessous du sommet à gauche, comme pour l'union. Attention, la concaténation n'est pas commutative, c'est pour cela que nous insistons sur l'ordre, car on dépile dans l'ordre _inverse_ qu'on a empilé. Ainsi, notre dernière opération laisse sur le sommet de la pile l'automate résultant de la conversion :"
   ]
  },
  {
   "cell_type": "code",
   "execution_count": 10,
   "metadata": {},
   "outputs": [
    {
     "data": {
      "image/svg+xml": [
       "<?xml version=\"1.0\" encoding=\"UTF-8\" standalone=\"no\"?>\n",
       "<!DOCTYPE svg PUBLIC \"-//W3C//DTD SVG 1.1//EN\"\n",
       " \"http://www.w3.org/Graphics/SVG/1.1/DTD/svg11.dtd\">\n",
       "<!-- Generated by graphviz version 2.43.0 (0)\n",
       " -->\n",
       "<!-- Title: L Pages: 1 -->\n",
       "<svg width=\"229pt\" height=\"68pt\"\n",
       " viewBox=\"0.00 0.00 229.00 68.00\" xmlns=\"http://www.w3.org/2000/svg\" xmlns:xlink=\"http://www.w3.org/1999/xlink\">\n",
       "<g id=\"graph0\" class=\"graph\" transform=\"scale(1 1) rotate(0) translate(4 64)\">\n",
       "<title>L</title>\n",
       "<polygon fill=\"white\" stroke=\"transparent\" points=\"-4,4 -4,-64 225,-64 225,4 -4,4\"/>\n",
       "<text text-anchor=\"middle\" x=\"110.5\" y=\"-7.8\" font-family=\"Times,serif\" font-size=\"14.00\">concat(union(a,%),kleene(b))</text>\n",
       "<!-- a -->\n",
       "<g id=\"node1\" class=\"node\">\n",
       "<title>a</title>\n",
       "<polygon fill=\"none\" stroke=\"black\" points=\"79.5,-23.5 79.5,-59.5 141.5,-59.5 141.5,-23.5 79.5,-23.5\"/>\n",
       "<text text-anchor=\"middle\" x=\"110.5\" y=\"-37.8\" font-family=\"Times,serif\" font-size=\"14.00\">empty</text>\n",
       "</g>\n",
       "</g>\n",
       "</svg>\n"
      ],
      "text/plain": [
       "<automaton.Automaton at 0x7f77b07068e0>"
      ]
     },
     "execution_count": 10,
     "metadata": {},
     "output_type": "execute_result"
    }
   ],
   "source": [
    "droite = pile.pop()\n",
    "gauche = pile.pop()\n",
    "#resultat = concat(gauche,droite) # implémenté en TP3\n",
    "resultat = Automaton(\"bidon\") # pour tester, on crée un automate vide à la place (ne faites pas ça)\n",
    "nom = \"concat({},{})\".format(gauche.name, droite.name)\n",
    "resultat.name = nom\n",
    "pile.append(resultat)\n",
    "pile[-1]"
   ]
  },
  {
   "cell_type": "markdown",
   "metadata": {},
   "source": [
    "### One script to rule them all\n",
    "\n",
    "Il ne vous reste plus qu'à mettre ensemble tout ce que vous avez implémenté aux TP précédents. L'automate résultant de la conversion est (hautement) non déterministe. Vous devez le déterminiser en supprimant les transitions-$\\varepsilon$, puis en appliquant la réduction des transitions (TP2). Finalement, vous devez appliquer la reconnaissance au mot passé en deuxième paramètre du script `sys.argv[2]` et dire `YES` ou `NO` si le mot est reconnu par l'expression régulière (TP1). Et voilà, la boucle est bouclée, il n'y a plus qu'à documenter et tester. Beaucoup tester !"
   ]
  },
  {
   "cell_type": "markdown",
   "metadata": {},
   "source": [
    "### Documentation et tests\n",
    "\n",
    "**Documentation**: Ce dernier TP est noté. Ainsi, il faut rendre la tâche des évaluatrices et évaluateurs la plus simple possible. Pour cela, vous avez un minimum de documentation à fournir. Cela consiste en :\n",
    "  * Un fichier `README.txt` ou `README.md` contenant\n",
    "    1. **IMPORTANT!** Le NOM et Prénom des membres du binôme\n",
    "    2. Des instructions pour exécuter votre programme/script à la ligne de commande, avec un exemple\n",
    "    3. Si il faut installer des bibliothèques ou des dépendances autres que python3+graphviz, indiquer la procédure\n",
    "    4. Si votre rendu est incomplet, expliquer jusqu'où vous êtes allé.e (et pourquoi)\n",
    "    5. Indiquer toute partie du code qui aurait été copiée d'ailleurs ou faire en groupe (en dehors des binômes). Vous n'êtes pas censé copier-coller du code d'autres binômes, mais si jamais vous le faites il vaut mieux être honnête (et perdre quelques points) plutôt que le cacher (et risquer une procédure administrative pour plagiat, ce qui est très sérieux)\n",
    "  * Un code-source minimalement organisé avec toutes les dépendances incluses et, si possible, quelques commentaires dans les fonctions principales, là où ça vous semble nécessaire (`automaton.py` est un exemple de documentation minimale, faites à peu près pareil)\n",
    "  \n",
    "Ne passez pas des heures à documenter chaque variable, chaque ligne, le plus important c'est qu'on puisse comprendre globalement l'idée derrière vos fonctions.\n",
    "  \n",
    "**Tests**: il faut suivre **précisément** les consignes ci-dessous pour votre script. Il doit lire l'expression régulière et le mot à reconnaître des arguments de la ligne de commande, et pas ailleurs. Il ne doit écrire rien d'autre que \"YES\" ou \"NO\" sur le terminal. Pas de \"print\" de débogage, pas d'automate dessiné, rien, juste \"YES\" ou \"NO\" tout en majuscules avec un saut de ligne à la fin (ajouté automatiquement par le \"print\" python).\n",
    "\n",
    "Nous testerons votre programme de manière automatique. Autrement dit, nous passerons une batterie de tests composés d'expressions régulières + mots - résultat attendu \"YES\" ou \"NO\". Le nombre de tests réussis par votre programme constituera une partie de votre note.\n",
    "\n",
    "Si votre TP est incomplet et vous n'arrivez pas à faire le TP4, par exemple, mais que vous avez fait les TP1, 2 et 3, signalez-le dans votre `README`. Nous évaluerons les 3 TP faits, et votre note maximale sera d'environ 3/4 de la note maximale complète, c'est-à-dire vous serez noté.e.s sur 15 au lieu de 20, et ainsi de suite si vous n'avez fait que le TP1 (5 points max) ou TP1-TP2 (10 points max). Dans ce cas, l'évaluation automatique n'est pas prise en compte."
   ]
  },
  {
   "cell_type": "markdown",
   "metadata": {
    "id": "wwbVoN2GlGAh"
   },
   "source": [
    "# Travail à effectuer\n",
    "\n",
    "Vous devez implémenter un script `tp4automates.py` qui, étant donné une expression régulière (`sys.argv[1]`) et un mot à reconnaître (`sys.argv[2]`), affiche sur `stdout` le mot `YES` si le mot est reconnu par l'expression régulière, et `NO` dans le cas où le mot n'est pas reconnu par l'expression régulière. Voici quelques exemples :\n",
    "```bash\n",
    "$ ./tp4automates.py a*+b* aaa\n",
    "YES\n",
    "$ ./tp4automates.py a*+b* %\n",
    "YES\n",
    "$ ./tp4automates.py a*+b* b\n",
    "YES\n",
    "$ ./tp4automates.py a*+b* aaa%\n",
    "YES\n",
    "$ ./tp4automates.py a*+b* ab\n",
    "NO\n",
    "$ ./tp4automates.py a*+b* aa%bb\n",
    "NO\n",
    "$ ./tp4automates.py a*+b* AAA\n",
    "NO\n",
    "```\n",
    "\n",
    "Un squelette de programme principal est donné dans `tp4automates.py`. Vous pouvez l'utiliser comme point de départ. "
   ]
  }
 ],
 "metadata": {
  "colab": {
   "collapsed_sections": [],
   "name": "Automates_TP1 ",
   "provenance": [],
   "toc_visible": true
  },
  "kernelspec": {
   "display_name": "Python 3",
   "language": "python",
   "name": "python3"
  },
  "language_info": {
   "codemirror_mode": {
    "name": "ipython",
    "version": 3
   },
   "file_extension": ".py",
   "mimetype": "text/x-python",
   "name": "python",
   "nbconvert_exporter": "python",
   "pygments_lexer": "ipython3",
   "version": "3.8.10"
  }
 },
 "nbformat": 4,
 "nbformat_minor": 1
}
